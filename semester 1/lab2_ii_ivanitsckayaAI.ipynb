{
 "cells": [
  {
   "cell_type": "markdown",
   "id": "aa0ddd46-4ce6-4f9a-97d8-99da4c177b6a",
   "metadata": {},
   "source": [
    "# Лабораторная работа №2"
   ]
  },
  {
   "cell_type": "code",
   "execution_count": 3,
   "id": "541cf48f-1806-4ad9-95ca-b3a308078b11",
   "metadata": {},
   "outputs": [
    {
     "name": "stdout",
     "output_type": "stream",
     "text": [
      "Collecting pygmo\n",
      "  Using cached pygmo-v2.19.0.tar.gz (3.0 MB)\n",
      "\u001b[31mERROR: pygmo from https://files.pythonhosted.org/packages/e2/12/090ba61479f60d5177a0048736d09dc028b2d65063ed44cb952df506336f/pygmo-v2.19.0.tar.gz does not appear to be a Python project: neither 'setup.py' nor 'pyproject.toml' found.\u001b[0m\u001b[31m\n",
      "\u001b[0m"
     ]
    }
   ],
   "source": [
    "!pip install pygmo"
   ]
  },
  {
   "cell_type": "code",
   "execution_count": 2,
   "id": "cc2fba6a-5430-483d-93aa-c8e69728b391",
   "metadata": {},
   "outputs": [
    {
     "ename": "ModuleNotFoundError",
     "evalue": "No module named 'pygmo'",
     "output_type": "error",
     "traceback": [
      "\u001b[0;31m---------------------------------------------------------------------------\u001b[0m",
      "\u001b[0;31mModuleNotFoundError\u001b[0m                       Traceback (most recent call last)",
      "Cell \u001b[0;32mIn[2], line 1\u001b[0m\n\u001b[0;32m----> 1\u001b[0m \u001b[38;5;28;01mimport\u001b[39;00m \u001b[38;5;21;01mpygmo\u001b[39;00m \u001b[38;5;28;01mas\u001b[39;00m \u001b[38;5;21;01mpg\u001b[39;00m\n\u001b[1;32m      2\u001b[0m \u001b[38;5;28;01mimport\u001b[39;00m \u001b[38;5;21;01mnumpy\u001b[39;00m \u001b[38;5;28;01mas\u001b[39;00m \u001b[38;5;21;01mnp\u001b[39;00m\n\u001b[1;32m      3\u001b[0m \u001b[38;5;28;01mimport\u001b[39;00m \u001b[38;5;21;01mpandas\u001b[39;00m \u001b[38;5;28;01mas\u001b[39;00m \u001b[38;5;21;01mpd\u001b[39;00m\n",
      "\u001b[0;31mModuleNotFoundError\u001b[0m: No module named 'pygmo'"
     ]
    }
   ],
   "source": [
    "import pygmo as pg\n",
    "import numpy as np\n",
    "import pandas as pd"
   ]
  },
  {
   "cell_type": "code",
   "execution_count": null,
   "id": "8561908c-7333-496e-aeed-bee218062522",
   "metadata": {},
   "outputs": [],
   "source": [
    "class MatyasFunction:\n",
    "    def fitness(self, x):\n",
    "        return [0.26 * (sum([xi**2 for xi in x])) - np.prod([np.cos(xi) for xi in x])]\n",
    "\n",
    "    def get_bounds(self):\n",
    "        return ([-10.0] * 10, [10.0] * 10)"
   ]
  },
  {
   "cell_type": "code",
   "execution_count": null,
   "id": "0e7effb5-2fbd-4c53-afe4-083ab66d43fc",
   "metadata": {},
   "outputs": [],
   "source": [
    "class RosenbrockFunction:\n",
    "    def fitness(self, x):\n",
    "        return [(1 - x[0])**2 + 100 * (x[1] - x[0]**2)**2]\n",
    "\n",
    "    def get_bounds(self):\n",
    "        return ([-5.0, -5.0], [5.0, 5.0]) "
   ]
  },
  {
   "cell_type": "code",
   "execution_count": null,
   "id": "76f9ebff-ac70-46e8-9be4-1c44195e2424",
   "metadata": {},
   "outputs": [],
   "source": [
    "# Настройка алгоритмов\n",
    "def optimize(func, algo, **kwargs):\n",
    "    prob = pg.problem(func)\n",
    "    pop = pg.population(prob, size=20)\n",
    "    pop = algo.evolve(pop)\n",
    "    return pop.get_f()[0][0]  "
   ]
  },
  {
   "cell_type": "code",
   "execution_count": null,
   "id": "ab397987-85de-4b12-98ae-1af7d9352540",
   "metadata": {},
   "outputs": [],
   "source": [
    "# Оптимизация функции Матьяса\n",
    "matyas_algorithms = {\n",
    "    'Differential Evolution': pg.algorithm(pg.de()),\n",
    "    'Particle Swarm Optimization': pg.algorithm(pg.pso()),\n",
    "    'CMA-ES': pg.algorithm(pg.cmaes())\n",
    "}\n",
    "\n",
    "results_matyas = {}\n",
    "for name, algo in matyas_algorithms.items():\n",
    "    result = optimize(MatyasFunction(), algo)\n",
    "    results_matyas[name] = result"
   ]
  },
  {
   "cell_type": "code",
   "execution_count": null,
   "id": "7af9c8a3-136f-49e2-bea3-c738a0583ea2",
   "metadata": {},
   "outputs": [],
   "source": [
    "# Оптимизация функции Розенброка\n",
    "matyas_algorithms = {\n",
    "    'Differential Evolution': pg.algorithm(pg.de()),\n",
    "    'Particle Swarm Optimization': pg.algorithm(pg.pso()),\n",
    "    'CMA-ES': pg.algorithm(pg.cmaes())\n",
    "}\n",
    "\n",
    "results_rosenbrock = {}\n",
    "for name, algo in matyas_algorithms.items():\n",
    "    result = optimize(RosenbrockFunction(), algo)\n",
    "    results_rosenbrock[name] = result"
   ]
  },
  {
   "cell_type": "code",
   "execution_count": null,
   "id": "0ff9f9ed-0b89-4623-821f-6c81ad421347",
   "metadata": {},
   "outputs": [],
   "source": [
    "# Создание таблицы сравнения\n",
    "comparison_table = pd.DataFrame({\n",
    "    'Algorithm': list(results_matyas.keys()),\n",
    "    'Matyas Function': list(results_matyas.values()),\n",
    "    'Rosenbrock Function': list(results_rosenbrock.values())\n",
    "})"
   ]
  },
  {
   "cell_type": "code",
   "execution_count": null,
   "id": "c2c5271c-7bfa-4e38-a2fc-10a0ca3a5303",
   "metadata": {},
   "outputs": [],
   "source": [
    "print(comparison_table)"
   ]
  }
 ],
 "metadata": {
  "kernelspec": {
   "display_name": "Python 3 (ipykernel)",
   "language": "python",
   "name": "python3"
  },
  "language_info": {
   "codemirror_mode": {
    "name": "ipython",
    "version": 3
   },
   "file_extension": ".py",
   "mimetype": "text/x-python",
   "name": "python",
   "nbconvert_exporter": "python",
   "pygments_lexer": "ipython3",
   "version": "3.9.5"
  }
 },
 "nbformat": 4,
 "nbformat_minor": 5
}
